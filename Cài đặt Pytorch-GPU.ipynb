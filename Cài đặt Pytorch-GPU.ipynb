{
 "cells": [
  {
   "cell_type": "markdown",
   "metadata": {},
   "source": [
    "## Hướng dẫn cài đặt Pytorch GPU"
   ]
  },
  {
   "cell_type": "code",
   "execution_count": null,
   "metadata": {},
   "outputs": [],
   "source": [
    "# Tạo môi trường cho pytorch của Anaconda\n",
    "conda create -n torch\n",
    "\n",
    "# Kích hoạt môi trường\n",
    "conda activate torch\n",
    "\n",
    "# Nhớ cài đặt numpy\n",
    "\n",
    "# Cài đặt Pytorch (cuda 9)\n",
    "conda install pytorch torchvision cuda90 -c pytorch\n",
    "\n",
    "# Test gpu install\n",
    "python -c 'import torch; print(torch.rand(2,3).cuda())'"
   ]
  }
 ],
 "metadata": {
  "kernelspec": {
   "display_name": "Python 3",
   "language": "python",
   "name": "python3"
  },
  "language_info": {
   "codemirror_mode": {
    "name": "ipython",
    "version": 3
   },
   "file_extension": ".py",
   "mimetype": "text/x-python",
   "name": "python",
   "nbconvert_exporter": "python",
   "pygments_lexer": "ipython3",
   "version": "3.6.5"
  }
 },
 "nbformat": 4,
 "nbformat_minor": 2
}
